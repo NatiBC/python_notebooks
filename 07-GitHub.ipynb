{
 "cells": [
  {
   "cell_type": "markdown",
   "id": "4ffe8752",
   "metadata": {},
   "source": [
    "# **Como usar GitHub**\n",
    "\n",
    "**Codigos utiles:**\n",
    "1. git log (Es para ver el listado de commits, para salir hay que apretar Q)\n",
    "2. git status (Muestra el estado del git propio)\n",
    "3. git add. (Agrega los cambios hechos al git (todo de la c. actual))\n",
    "4. git commit -m \"texto\" (Crea el commit con una referencia de los cambios que se hicieron en donde dice \"texto\")\n",
    "5. git push origin \"main\" (Carga los cambios en GitHub)\n",
    "6. git pull origin main (Baja los cambios y los compajina, estando dentro de la carpeta git original \"nombre de la carpeta\")\n",
    "7. git fetch (Descarga los cambios)\n",
    "\n",
    "**Como clonar un repositor en GitHub**\n",
    "1. Dentro de VS Code Ctrl+shift+P\n",
    "2. Escribir Git:Clone\n",
    "3. Pegá la URL que copiaste de GitHub (ejemplo: https://github.com/NatiBC/talento_tech_tp_web.git)\n",
    "4. Elegí una carpeta vacía en tu computadora para guardar el proyecto.\n",
    "5. Cuando termine, aparecerá un mensaje:\n",
    "    “Would you like to open the cloned repository?”\n",
    "    Seleccioná Open o Abrir."
   ]
  }
 ],
 "metadata": {
  "language_info": {
   "name": "python"
  }
 },
 "nbformat": 4,
 "nbformat_minor": 5
}
