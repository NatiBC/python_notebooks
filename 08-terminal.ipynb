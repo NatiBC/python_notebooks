{
 "cells": [
  {
   "cell_type": "markdown",
   "id": "2245d587",
   "metadata": {},
   "source": [
    "# **Comandos para la terminal**"
   ]
  },
  {
   "cell_type": "markdown",
   "id": "d4df97b1",
   "metadata": {},
   "source": [
    "**Basico**\n",
    "1. \".\" (Carpeta actual)\n",
    "2. \"..\" (Carpeta anterior a la actual)\n",
    "3. \"..\\ ..\" (Dos carpetas más abajo, se pueden sumar más \\ para ir más atras en las carpetas)\n",
    "4. \"~\" (Lleva siempre al directorio home)\n",
    "5. \"\\n\" = enter\n",
    "6. \"\\t\" = sangria\n",
    "7. mkdir \"nombre\" (Crea un nuevo directorio, siendo nombre el nombre que se le da al directorio)\n",
    "8. set( ) (tipo especial de lista poco utilizada)\n",
    "9. type( ) (Indica tipo de datos dentro de los ())\n",
    "10. mv (Moves archivos a otras carpetas)\n",
    "11. dir (Muestra el contenido del directorio/ carpeta)\n",
    "12. clear (Limpia la pantalla de la terminal)\n",
    "13. pwd (Muestra el directorio)\n",
    "14. code . (Ejecuta la carpeta actual en VS Code)\n",
    "15. cd \"pad\" (Cambia el directorio con el Pad (ejemplo pad = C:\\Users\\Nati))\n",
    "16. . _ _ dict _ _ (Devuelve los datos en un diccionario)\n",
    "17. .dumps (Crea un Json en base a un objeto)\n",
    "18. .loads (Crea un objeto en base a un Json)\n",
    "19. start . (Abre la carpeta en una ventana)\n",
    "\n",
    "**Entorno virtual**\n",
    "1. python3 -m venv pad (Crea un ambiente virtual para instalaciones espesificas)\n",
    "2. python.exe -m venv \"nombre de entorno virtual\" (Crea un entorno virtual por su nombre)\n",
    "3. .\\entv\\Scripts\\activate.ps1 (Activa el entorno virtual)\n",
    "\n",
    "**Flask**\n",
    "1. pip install Flask (Para instalar \"Flask\" que es un servidor/framework para backend)\n",
    "2. flask --app main --debug run (Activa Flask)\n",
    "3. flask --app main:app db migrate -m \"descripcion\" (Genera un archivo de migración (un script) que describe los cambios pero no ejecuta los cambios todavía)\n",
    "4. flask --app main:app db upgrade (Aplica las migraciones pendientes en la base de datos)\n",
    "5. flask --app main.py db upgrade (Igial que la anterior pero menos recomendada para su uso)\n",
    "6. pip install -U flask-cors (Instala/ actualiza Flask-CORS a la última versión)\n",
    "7. pip install Flask-Session (Instala un extensión de Flask que permite manejar sesiones de manera más avanzada que la sesión por defecto de Flask)\n",
    "\n",
    "**Librerias**\n",
    "1. pip freeze (Sirve para mostrar todas las librerías instaladas en tu entorno, junto con sus versiones exactas)\n",
    "2. pip install -r \"x\" (Instala las librerias dentro del archivo X)\n",
    "3. pip install pyotp (Instala la librería pyotp, que sirve para generar y verificar códigos temporales de autenticación)\n",
    "4. pip install qrcode (Libreria que genera codigos QR)\n",
    "\n",
    "**Dependencias**\n",
    "1. npm create vite@latest \"nombre\" -- --template svelte (Usa npm (el gestor de paquetes de Node.js) para ejecutar el creador de proyectos Vite. \"nombre\" nombre de la carpeta donde se creará tu proyecto. Indica qué plantilla (framework) querés usar para el proyecto (Svelte))\n",
    "2. npm install (Para instalar las dependencias)\n",
    "3. npm run dev (Levanta el servidor frontend)\n",
    "\n"
   ]
  }
 ],
 "metadata": {
  "language_info": {
   "name": "python"
  }
 },
 "nbformat": 4,
 "nbformat_minor": 5
}
